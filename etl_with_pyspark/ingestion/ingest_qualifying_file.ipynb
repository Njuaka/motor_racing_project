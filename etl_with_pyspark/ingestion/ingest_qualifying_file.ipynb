{
 "cells": [
  {
   "cell_type": "markdown",
   "metadata": {
    "application/vnd.databricks.v1+cell": {
     "cellMetadata": {},
     "inputWidgets": {},
     "nuid": "ae71ee61-2abb-4efd-9be3-25311772a090",
     "showTitle": false,
     "tableResultSettingsMap": {},
     "title": ""
    }
   },
   "source": [
    "#### ingest a set of multiline files in qualifying folder\n",
    "\n",
    "- read json file\n",
    "- rename columns and add new columns\n",
    "- write output to silver container"
   ]
  },
  {
   "cell_type": "code",
   "execution_count": 0,
   "metadata": {
    "application/vnd.databricks.v1+cell": {
     "cellMetadata": {
      "byteLimit": 2048000,
      "rowLimit": 10000
     },
     "inputWidgets": {},
     "nuid": "f44c334c-5bb6-4970-a116-0ee12b526e9c",
     "showTitle": false,
     "tableResultSettingsMap": {},
     "title": ""
    }
   },
   "outputs": [],
   "source": [
    "from pyspark.sql.functions import current_timestamp, col, concat, lit\n",
    "from pyspark.sql.types import StructType, StructField, StringType, IntegerType, DateType"
   ]
  },
  {
   "cell_type": "code",
   "execution_count": 0,
   "metadata": {
    "application/vnd.databricks.v1+cell": {
     "cellMetadata": {
      "byteLimit": 2048000,
      "rowLimit": 10000
     },
     "inputWidgets": {},
     "nuid": "752a166c-ce63-4256-9439-7f9dca12dd3f",
     "showTitle": false,
     "tableResultSettingsMap": {},
     "title": ""
    }
   },
   "outputs": [],
   "source": [
    "qualifying_schema = StructType([\n",
    "    StructField(\"qualifyingId\", IntergerType(), False),\n",
    "    StructField(\"raceId\", IntegerType(), True),\n",
    "    StructField(\"driverId\", IntegerType(), True),\n",
    "    StructField(\"contructorId\", IntegerType(), True),\n",
    "    StructField(\"number\", IntegerType(), True),\n",
    "    StructField(\"position\", IntegerType(), True),\n",
    "    StructField(\"q1\", StringType(), True),\n",
    "    StructField(\"q2\", StringType(), True),\n",
    "    StructField(\"q3\", StringType(), True)\n",
    "])"
   ]
  },
  {
   "cell_type": "code",
   "execution_count": 0,
   "metadata": {
    "application/vnd.databricks.v1+cell": {
     "cellMetadata": {
      "byteLimit": 2048000,
      "rowLimit": 10000
     },
     "inputWidgets": {},
     "nuid": "172bcf2d-be52-4848-8506-a3d0e7bda63c",
     "showTitle": false,
     "tableResultSettingsMap": {},
     "title": ""
    }
   },
   "outputs": [],
   "source": [
    "qualifying_df = spark.read \\\n",
    "    .schema(pit_stops_schema)\\\n",
    "    .option(\"multiline\", \"true\")\\\n",
    "    .json(\"abfss://bronze@motorracingdl.dfs.core.windows.net/qualifying\")"
   ]
  },
  {
   "cell_type": "markdown",
   "metadata": {
    "application/vnd.databricks.v1+cell": {
     "cellMetadata": {},
     "inputWidgets": {},
     "nuid": "6c78fada-0862-4f46-92ef-cd4f6f11780a",
     "showTitle": false,
     "tableResultSettingsMap": {},
     "title": ""
    }
   },
   "source": [
    "##### rename columns and add columns"
   ]
  },
  {
   "cell_type": "code",
   "execution_count": 0,
   "metadata": {
    "application/vnd.databricks.v1+cell": {
     "cellMetadata": {
      "byteLimit": 2048000,
      "rowLimit": 10000
     },
     "inputWidgets": {},
     "nuid": "54cb74d1-f2b7-4388-92d9-7137b77b8c85",
     "showTitle": false,
     "tableResultSettingsMap": {},
     "title": ""
    }
   },
   "outputs": [],
   "source": [
    "qualifying_final_df = qualifying_df.withColumnRenamed(\"qualifyingId\", \"qualifying_id\")\\\n",
    "                                 .withColumnRenamed(\"driverId\", \"driver_id\")\n",
    "                                 .withColumnRenamed(\"raceId\", \"race_id\")\\\n",
    "                                 .withColumnRenamed(\"constructorId\", \"constructor_id\")\n",
    "                                 .withColumn(\"ingestion_date\", current_timestamp())\n"
   ]
  },
  {
   "cell_type": "code",
   "execution_count": 0,
   "metadata": {
    "application/vnd.databricks.v1+cell": {
     "cellMetadata": {},
     "inputWidgets": {},
     "nuid": "75eb339e-be47-47ae-bd75-e3593b68f589",
     "showTitle": false,
     "tableResultSettingsMap": {},
     "title": ""
    }
   },
   "outputs": [],
   "source": [
    "# qualifying_final_df.write.mode(\"overwrite\").parquet(\"abfss://bronze@motorracingdl.dfs.core.windows.net/\")"
   ]
  }
 ],
 "metadata": {
  "application/vnd.databricks.v1+notebook": {
   "computePreferences": null,
   "dashboards": [],
   "environmentMetadata": {
    "base_environment": "",
    "environment_version": "2"
   },
   "language": "python",
   "notebookMetadata": {
    "pythonIndentUnit": 4
   },
   "notebookName": "ingest_qualifying_file",
   "widgets": {}
  },
  "language_info": {
   "name": "python"
  }
 },
 "nbformat": 4,
 "nbformat_minor": 0
}
