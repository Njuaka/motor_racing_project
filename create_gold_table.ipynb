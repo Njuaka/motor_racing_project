{
 "cells": [
  {
   "cell_type": "markdown",
   "metadata": {
    "application/vnd.databricks.v1+cell": {
     "cellMetadata": {},
     "inputWidgets": {},
     "nuid": "f4738636-305f-47eb-b6ee-0c192b20016f",
     "showTitle": false,
     "tableResultSettingsMap": {},
     "title": ""
    }
   },
   "source": [
    "## create managed table in the gold table.\n",
    "Join drivers and results to identify the number of wins per drivers"
   ]
  },
  {
   "cell_type": "code",
   "execution_count": 0,
   "metadata": {
    "application/vnd.databricks.v1+cell": {
     "cellMetadata": {
      "byteLimit": 2048000,
      "rowLimit": 10000
     },
     "inputWidgets": {},
     "nuid": "bf03a133-ea34-4abc-b250-8d7e9103487b",
     "showTitle": false,
     "tableResultSettingsMap": {},
     "title": ""
    }
   },
   "outputs": [],
   "source": [
    "DROP TABLE IF EXISTS motor_dev.gold.driver_wins;\n",
    "CREATE TABLE IF NOT EXISTS motor_dev.gold.driver_wins\n",
    "AS\n",
    "SELECT d.name, count(1) AS number_of_wins\n",
    "  FROM motor_dev.silver.drivers d\n",
    "  JOIN motor_dev.silver.results r \n",
    "    ON (d.driver_id = r.driver_id)\n",
    " WHERE r.position = 1\n",
    "GROUP BY d.name;\n"
   ]
  },
  {
   "cell_type": "code",
   "execution_count": 0,
   "metadata": {
    "application/vnd.databricks.v1+cell": {
     "cellMetadata": {
      "byteLimit": 2048000,
      "rowLimit": 10000
     },
     "inputWidgets": {},
     "nuid": "20dd07d7-1124-400a-b766-1de3378f9582",
     "showTitle": false,
     "tableResultSettingsMap": {},
     "title": ""
    }
   },
   "outputs": [],
   "source": [
    "SELECT *\n",
    "FROM  motor_dev.gold.driver_wins\n",
    "ORDER BY number_of_wins DESC;"
   ]
  }
 ],
 "metadata": {
  "application/vnd.databricks.v1+notebook": {
   "computePreferences": null,
   "dashboards": [],
   "environmentMetadata": {
    "base_environment": "",
    "environment_version": "2"
   },
   "language": "sql",
   "notebookMetadata": {},
   "notebookName": "create_gold_table",
   "widgets": {}
  },
  "language_info": {
   "name": "sql"
  }
 },
 "nbformat": 4,
 "nbformat_minor": 0
}
