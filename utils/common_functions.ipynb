{
 "cells": [
  {
   "cell_type": "code",
   "execution_count": 0,
   "metadata": {
    "application/vnd.databricks.v1+cell": {
     "cellMetadata": {
      "byteLimit": 2048000,
      "rowLimit": 10000
     },
     "inputWidgets": {},
     "nuid": "46754ced-4d49-44c9-a6b4-e3added76243",
     "showTitle": false,
     "tableResultSettingsMap": {},
     "title": ""
    }
   },
   "outputs": [],
   "source": [
    "from pyspark.sql.functions import current_timestamp"
   ]
  },
  {
   "cell_type": "code",
   "execution_count": 0,
   "metadata": {
    "application/vnd.databricks.v1+cell": {
     "cellMetadata": {
      "byteLimit": 2048000,
      "rowLimit": 10000
     },
     "inputWidgets": {},
     "nuid": "bdc72069-a1d9-40ab-8066-9b01d8552f3f",
     "showTitle": false,
     "tableResultSettingsMap": {},
     "title": ""
    }
   },
   "outputs": [],
   "source": [
    "def add_ingestion_date(input_df):\n",
    "    output_df = input_df.withColumn(\"ingestion_date\", current_timestamp())\n",
    "    return output_df"
   ]
  },
  {
   "cell_type": "code",
   "execution_count": 0,
   "metadata": {
    "application/vnd.databricks.v1+cell": {
     "cellMetadata": {
      "byteLimit": 2048000,
      "rowLimit": 10000
     },
     "inputWidgets": {},
     "nuid": "1a13c40f-16d4-4f6a-8f59-c74ced86e016",
     "showTitle": false,
     "tableResultSettingsMap": {},
     "title": ""
    }
   },
   "outputs": [],
   "source": [
    "def re_arrange_partition_columns(input_df, partition_column):\n",
    "    column_lists = []\n",
    "    for column_name in input_df.schema.names:\n",
    "        if column_name != partition_column:\n",
    "            column_lists.append(column_name)\n",
    "    column_lists.append(partition_column)\n",
    "    output_df = input_df.select(column_lists)\n",
    "    return output_df"
   ]
  },
  {
   "cell_type": "code",
   "execution_count": 0,
   "metadata": {
    "application/vnd.databricks.v1+cell": {
     "cellMetadata": {
      "byteLimit": 2048000,
      "rowLimit": 10000
     },
     "inputWidgets": {},
     "nuid": "b28c1894-65d6-4ace-8995-6623070db7d0",
     "showTitle": false,
     "tableResultSettingsMap": {},
     "title": ""
    }
   },
   "outputs": [],
   "source": [
    "from delta.tables import DeltaTable\n",
    "\n",
    "# Set the catalog and schema\n",
    "spark.sql(\"USE CATALOG motor_dev\")\n",
    "spark.sql(\"USE SCHEMA silver\")\n",
    "\n",
    "def merge_delta_data(input_df, db_name, table_name, merge_condition,partition_column):\n",
    "    spark.conf.set(\"spark.databricks.optimizer.dynamicPartitionPruning\", \"true\")\n",
    "    \n",
    "    full_table_name = f\"{db_name}.{table_name}\"\n",
    "    \n",
    "    if spark.catalog.tableExists(full_table_name):\n",
    "        deltaTable = DeltaTable.forName(spark, full_table_name)\n",
    "        deltaTable.alias(\"tgt\").merge(\n",
    "            input_df.alias(\"src\"),\n",
    "            merge_condition\n",
    "        ).whenMatchedUpdateAll().whenNotMatchedInsertAll().execute()\n",
    "    else:\n",
    "        input_df.write.format(\"delta\").mode(\"overwrite\").partitionBy(partition_column).saveAsTable(full_table_name)\n",
    "\n"
   ]
  },
  {
   "cell_type": "code",
   "execution_count": 0,
   "metadata": {
    "application/vnd.databricks.v1+cell": {
     "cellMetadata": {
      "byteLimit": 2048000,
      "rowLimit": 10000
     },
     "inputWidgets": {},
     "nuid": "3f48234d-bf47-44ec-bfa8-2c4c236d7f04",
     "showTitle": false,
     "tableResultSettingsMap": {},
     "title": ""
    }
   },
   "outputs": [],
   "source": [
    "def df_column_to_list(input_df, column_name):\n",
    "    df_row_list = input_df.select(column_name)\\\n",
    "        .distinct()\\\n",
    "        .collect()\n",
    "    column_value_list = [row[column_name] for row in df_row_list]\n",
    "    return column_value_list"
   ]
  }
 ],
 "metadata": {
  "application/vnd.databricks.v1+notebook": {
   "computePreferences": null,
   "dashboards": [],
   "environmentMetadata": {
    "base_environment": "",
    "environment_version": "2"
   },
   "language": "python",
   "notebookMetadata": {
    "pythonIndentUnit": 4
   },
   "notebookName": "common_functions",
   "widgets": {}
  },
  "language_info": {
   "name": "python"
  }
 },
 "nbformat": 4,
 "nbformat_minor": 0
}
