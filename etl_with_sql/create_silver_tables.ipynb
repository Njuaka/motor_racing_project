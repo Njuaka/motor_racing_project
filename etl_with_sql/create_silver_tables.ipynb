{
 "cells": [
  {
   "cell_type": "markdown",
   "metadata": {
    "application/vnd.databricks.v1+cell": {
     "cellMetadata": {},
     "inputWidgets": {},
     "nuid": "04417137-10bc-4319-a621-8555c1d69cc7",
     "showTitle": false,
     "tableResultSettingsMap": {},
     "title": ""
    }
   },
   "source": [
    "create  managed tables in the silver schema"
   ]
  },
  {
   "cell_type": "code",
   "execution_count": 0,
   "metadata": {
    "application/vnd.databricks.v1+cell": {
     "cellMetadata": {
      "byteLimit": 2048000,
      "rowLimit": 10000
     },
     "inputWidgets": {},
     "nuid": "c6f60e8f-689c-4314-a049-ef660f943b1c",
     "showTitle": false,
     "tableResultSettingsMap": {},
     "title": ""
    }
   },
   "outputs": [],
   "source": [
    "DROP TABLE IF EXISTS motor_dev.silver.drivers;\n",
    "\n",
    "CREATE TABLE IF NOT EXISTS motor_dev.silver.drivers \n",
    "AS\n",
    "SELECT driverId AS driver_id,\n",
    "       driverRef AS driver_ref,\n",
    "       number,\n",
    "       code,\n",
    "       concat(name.forename, ' ', name.surname) AS name,\n",
    "       dob,\n",
    "       nationality,\n",
    "       current_timestamp() AS ingestion_date\n",
    "  FROM motor_dev.bronze.drivers;"
   ]
  },
  {
   "cell_type": "code",
   "execution_count": 0,
   "metadata": {
    "application/vnd.databricks.v1+cell": {
     "cellMetadata": {
      "byteLimit": 2048000,
      "rowLimit": 10000
     },
     "inputWidgets": {},
     "nuid": "d6744246-b893-47ef-881c-fb03768dcfd9",
     "showTitle": false,
     "tableResultSettingsMap": {},
     "title": ""
    }
   },
   "outputs": [],
   "source": [
    "DROP TABLE IF EXISTS motor_dev.silver.results;\n",
    "\n",
    "CREATE TABLE IF NOT EXISTS motor_dev.silver.results\n",
    "AS\n",
    "SELECT resultId AS result_id,\n",
    "       raceId AS raced_id,\n",
    "       driverId AS driver_id,\n",
    "       constructorId AS constructor_id,\n",
    "       number,\n",
    "       grid,\n",
    "       position,\n",
    "       positionText AS position_text,\n",
    "       positionOrder AS position_order,\n",
    "       points,\n",
    "       laps,\n",
    "       time,\n",
    "       milliseconds,\n",
    "       fastestLap AS fastest_lap,\n",
    "       rank,\n",
    "       fastestLapTime AS fastest_lap_time,\n",
    "       fastestLapSpeed AS fastest_lap_speed,\n",
    "       statusId AS status_id,\n",
    "       current_timestamp() AS ingestion_date\n",
    "   FROM motor_dev.bronze.results;"
   ]
  }
 ],
 "metadata": {
  "application/vnd.databricks.v1+notebook": {
   "computePreferences": null,
   "dashboards": [],
   "environmentMetadata": {
    "base_environment": "",
    "environment_version": "2"
   },
   "language": "sql",
   "notebookMetadata": {
    "pythonIndentUnit": 4
   },
   "notebookName": "create_silver_tables",
   "widgets": {}
  },
  "language_info": {
   "name": "sql"
  }
 },
 "nbformat": 4,
 "nbformat_minor": 0
}
