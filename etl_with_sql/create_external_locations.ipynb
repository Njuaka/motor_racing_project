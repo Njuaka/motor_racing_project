{
 "cells": [
  {
   "cell_type": "code",
   "execution_count": 0,
   "metadata": {
    "application/vnd.databricks.v1+cell": {
     "cellMetadata": {
      "byteLimit": 2048000,
      "rowLimit": 10000
     },
     "inputWidgets": {},
     "nuid": "477d5156-8ac8-498e-a86a-c25b2c617a18",
     "showTitle": false,
     "tableResultSettingsMap": {},
     "title": ""
    }
   },
   "outputs": [],
   "source": [
    "-- Create a location accessed using the abfss_remote_cred credential\n",
    "CREATE EXTERNAL LOCATION motorracingdl_bronze\n",
    "    URL 'abfss://bronze@motorracingdl.dfs.core.windows.net/'\n",
    "    WITH (STORAGE CREDENTIAL databricks_uc_meta_azuremanagedidentity_1739232134319);"
   ]
  },
  {
   "cell_type": "code",
   "execution_count": 0,
   "metadata": {
    "application/vnd.databricks.v1+cell": {
     "cellMetadata": {
      "byteLimit": 2048000,
      "rowLimit": 10000
     },
     "inputWidgets": {},
     "nuid": "9b1cc1ac-8f01-4591-b78c-cf1edf764fa8",
     "showTitle": false,
     "tableResultSettingsMap": {},
     "title": ""
    }
   },
   "outputs": [],
   "source": [
    "CREATE EXTERNAL LOCATION IF NOT EXISTS motorracingdl_silver\n",
    "    URL 'abfss://silver@motorracingdl.dfs.core.windows.net/'\n",
    "    WITH (STORAGE CREDENTIAL databricks_uc_meta_azuremanagedidentity_1739232134319);"
   ]
  },
  {
   "cell_type": "code",
   "execution_count": 0,
   "metadata": {
    "application/vnd.databricks.v1+cell": {
     "cellMetadata": {
      "byteLimit": 2048000,
      "rowLimit": 10000
     },
     "inputWidgets": {},
     "nuid": "2dbea987-2a69-484b-b84a-3258dc802c8c",
     "showTitle": false,
     "tableResultSettingsMap": {},
     "title": ""
    }
   },
   "outputs": [],
   "source": [
    "CREATE EXTERNAL LOCATION IF NOT EXISTS motorracingdl_gold\n",
    "    URL 'abfss://gold@motorracingdl.dfs.core.windows.net/'\n",
    "    WITH (STORAGE CREDENTIAL databricks_uc_meta_azuremanagedidentity_1739232134319);"
   ]
  }
 ],
 "metadata": {
  "application/vnd.databricks.v1+notebook": {
   "computePreferences": null,
   "dashboards": [],
   "environmentMetadata": {
    "base_environment": "",
    "environment_version": "2"
   },
   "language": "sql",
   "notebookMetadata": {
    "mostRecentlyExecutedCommandWithImplicitDF": {
     "commandId": 5838574321465980,
     "dataframes": [
      "_sqldf"
     ]
    },
    "pythonIndentUnit": 4
   },
   "notebookName": "create_external_locations",
   "widgets": {}
  },
  "language_info": {
   "name": "sql"
  }
 },
 "nbformat": 4,
 "nbformat_minor": 0
}
